{
    "nbformat_minor": 1, 
    "cells": [
        {
            "source": "### I would like to compare the Skydiving companies in California and Arizona", 
            "cell_type": "markdown", 
            "metadata": {
                "collapsed": true
            }
        }, 
        {
            "source": "#### Introduction to the Problem ", 
            "cell_type": "markdown", 
            "metadata": {}
        }, 
        {
            "source": "We know that there is always a huge demand and craze for Skydiving in different parts of the world\nwe also know that people always needs to travel to different places to do skydiving \n\nNow I would like to compare the list of companies who offer the skydiving services in both california and Arizona and would \nlike to give people with required information based on their current location to figure which skydiving company offers the best services \nand its benefits \n", 
            "cell_type": "markdown", 
            "metadata": {}
        }, 
        {
            "execution_count": null, 
            "cell_type": "code", 
            "metadata": {}, 
            "outputs": [], 
            "source": ""
        }, 
        {
            "execution_count": null, 
            "cell_type": "code", 
            "metadata": {}, 
            "outputs": [], 
            "source": ""
        }
    ], 
    "metadata": {
        "kernelspec": {
            "display_name": "Python 3.5 with Spark", 
            "name": "python3", 
            "language": "python3"
        }, 
        "language_info": {
            "mimetype": "text/x-python", 
            "nbconvert_exporter": "python", 
            "version": "3.5.4", 
            "name": "python", 
            "file_extension": ".py", 
            "pygments_lexer": "ipython3", 
            "codemirror_mode": {
                "version": 3, 
                "name": "ipython"
            }
        }
    }, 
    "nbformat": 4
}