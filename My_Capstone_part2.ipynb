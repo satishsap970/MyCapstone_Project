{
    "nbformat_minor": 1, 
    "cells": [
        {
            "source": "# Create a new Notebook", 
            "cell_type": "markdown", 
            "metadata": {
                "collapsed": true
            }
        }, 
        {
            "source": "https://en.wikipedia.org/wiki/List_of_postal_codes_of_Canada:_M,  obtain the data in dataframe ", 
            "cell_type": "markdown", 
            "metadata": {}
        }, 
        {
            "execution_count": 1, 
            "cell_type": "code", 
            "metadata": {}, 
            "outputs": [
                {
                    "output_type": "stream", 
                    "name": "stdout", 
                    "text": "Waiting for a Spark session to start...\nSpark Initialization Done! ApplicationId = app-20180925012211-0000\n"
                }
            ], 
            "source": "# import libraries\n\nimport pandas as pd\nimport numpy as np\nfrom bs4 import BeautifulSoup\nimport requests"
        }, 
        {
            "execution_count": 2, 
            "cell_type": "code", 
            "metadata": {}, 
            "outputs": [], 
            "source": "# get the data from the link\n\nwikipedia_link='https://en.wikipedia.org/wiki/List_of_postal_codes_of_Canada:_M'\nraw_wikipedia_page= requests.get(wikipedia_link).text\n\n# using beautiful soup to parse the HTML/XML codes.\nsoup = BeautifulSoup(raw_wikipedia_page,'xml')\n#print(soup.prettify())"
        }, 
        {
            "source": "# Extracting the data", 
            "cell_type": "markdown", 
            "metadata": {}
        }, 
        {
            "execution_count": 4, 
            "cell_type": "code", 
            "metadata": {}, 
            "outputs": [], 
            "source": "table = soup.find('table')\n\nPostcode      = []\nBorough       = []\nNeighbourhood = []\n\n# print(table)\n\n# extracting a clean form of the table\nfor tr_cell in table.find_all('tr'):\n    \n    counter = 1\n    Postcode_var      = -1\n    Borough_var       = -1\n    Neighbourhood_var = -1\n    \n    for td_cell in tr_cell.find_all('td'):\n        if counter == 1: \n            Postcode_var = td_cell.text\n        if counter == 2: \n            Borough_var = td_cell.text\n            tag_a_Borough = td_cell.find('a')\n            \n        if counter == 3: \n            Neighbourhood_var = str(td_cell.text).strip()\n            tag_a_Neighbourhood = td_cell.find('a')\n            \n        counter +=1\n        \n    if (Postcode_var == 'Not assigned' or Borough_var == 'Not assigned' or Neighbourhood_var == 'Not assigned'): \n        continue\n    try:\n        if ((tag_a_Borough is None) or (tag_a_Neighbourhood is None)):\n            continue\n    except:\n        pass\n    if(Postcode_var == -1 or Borough_var == -1 or Neighbourhood_var == -1):\n        continue\n        \n    Postcode.append(Postcode_var)\n    Borough.append(Borough_var)\n    Neighbourhood.append(Neighbourhood_var)       "
        }, 
        {
            "source": "# Postal codes 1+ Neighbor ", 
            "cell_type": "markdown", 
            "metadata": {}
        }, 
        {
            "execution_count": 5, 
            "cell_type": "code", 
            "metadata": {}, 
            "outputs": [
                {
                    "output_type": "stream", 
                    "name": "stdout", 
                    "text": "num of unique Postal codes: 84\n"
                }
            ], 
            "source": "unique_p = set(Postcode)\nprint('num of unique Postal codes:', len(unique_p))\nPostcode_u      = []\nBorough_u       = []\nNeighbourhood_u = []\n\n\nfor postcode_unique_element in unique_p:\n    p_var = ''; b_var = ''; n_var = ''; \n    for postcode_idx, postcode_element in enumerate(Postcode):\n        if postcode_unique_element == postcode_element:\n            p_var = postcode_element;\n            b_var = Borough[postcode_idx]\n            if n_var == '': \n                n_var = Neighbourhood[postcode_idx]\n            else:\n                n_var = n_var + ', ' + Neighbourhood[postcode_idx]\n    Postcode_u.append(p_var)\n    Borough_u.append(b_var)\n    Neighbourhood_u.append(n_var)"
        }, 
        {
            "source": "# create Dataframe", 
            "cell_type": "markdown", 
            "metadata": {}
        }, 
        {
            "execution_count": 6, 
            "cell_type": "code", 
            "metadata": {}, 
            "outputs": [
                {
                    "execution_count": 6, 
                    "metadata": {}, 
                    "data": {
                        "text/html": "<div>\n<style scoped>\n    .dataframe tbody tr th:only-of-type {\n        vertical-align: middle;\n    }\n\n    .dataframe tbody tr th {\n        vertical-align: top;\n    }\n\n    .dataframe thead th {\n        text-align: right;\n    }\n</style>\n<table border=\"1\" class=\"dataframe\">\n  <thead>\n    <tr style=\"text-align: right;\">\n      <th></th>\n      <th>Borough</th>\n      <th>Neighbourhood</th>\n      <th>Postcode</th>\n    </tr>\n  </thead>\n  <tbody>\n    <tr>\n      <th>0</th>\n      <td>Scarborough</td>\n      <td>Maryvale, Wexford</td>\n      <td>M1R</td>\n    </tr>\n    <tr>\n      <th>1</th>\n      <td>North York</td>\n      <td>Northwood Park, York University</td>\n      <td>M3J</td>\n    </tr>\n    <tr>\n      <th>2</th>\n      <td>West Toronto</td>\n      <td>Exhibition Place, Parkdale Village</td>\n      <td>M6K</td>\n    </tr>\n    <tr>\n      <th>3</th>\n      <td>North York</td>\n      <td>Downsview West</td>\n      <td>M3L</td>\n    </tr>\n    <tr>\n      <th>4</th>\n      <td>Scarborough</td>\n      <td>Agincourt North, Milliken</td>\n      <td>M1V</td>\n    </tr>\n    <tr>\n      <th>5</th>\n      <td>North York</td>\n      <td>Parkwoods</td>\n      <td>M3A</td>\n    </tr>\n    <tr>\n      <th>6</th>\n      <td>North York</td>\n      <td>Glencairn</td>\n      <td>M6B</td>\n    </tr>\n    <tr>\n      <th>7</th>\n      <td>Etobicoke</td>\n      <td>New Toronto</td>\n      <td>M8V</td>\n    </tr>\n    <tr>\n      <th>8</th>\n      <td>West Toronto</td>\n      <td>High Park</td>\n      <td>M6P</td>\n    </tr>\n    <tr>\n      <th>9</th>\n      <td>Etobicoke</td>\n      <td>Humber Bay, King's Mill Park, Mimico NE, Old M...</td>\n      <td>M8Y</td>\n    </tr>\n    <tr>\n      <th>10</th>\n      <td>North York</td>\n      <td>Hillcrest Village</td>\n      <td>M2H</td>\n    </tr>\n    <tr>\n      <th>11</th>\n      <td>Etobicoke</td>\n      <td>Markland Wood</td>\n      <td>M9C</td>\n    </tr>\n    <tr>\n      <th>12</th>\n      <td>Scarborough</td>\n      <td>Upper Rouge</td>\n      <td>M1X</td>\n    </tr>\n    <tr>\n      <th>13</th>\n      <td>North York</td>\n      <td>Victoria Village</td>\n      <td>M4A</td>\n    </tr>\n  </tbody>\n</table>\n</div>", 
                        "text/plain": "         Borough                                      Neighbourhood Postcode\n0    Scarborough                                  Maryvale, Wexford      M1R\n1     North York                    Northwood Park, York University      M3J\n2   West Toronto                 Exhibition Place, Parkdale Village      M6K\n3     North York                                     Downsview West      M3L\n4    Scarborough                          Agincourt North, Milliken      M1V\n5     North York                                          Parkwoods      M3A\n6     North York                                          Glencairn      M6B\n7      Etobicoke                                        New Toronto      M8V\n8   West Toronto                                          High Park      M6P\n9      Etobicoke  Humber Bay, King's Mill Park, Mimico NE, Old M...      M8Y\n10    North York                                  Hillcrest Village      M2H\n11     Etobicoke                                      Markland Wood      M9C\n12   Scarborough                                        Upper Rouge      M1X\n13    North York                                   Victoria Village      M4A"
                    }, 
                    "output_type": "execute_result"
                }
            ], 
            "source": "toronto_dict = {'Postcode':Postcode_u, 'Borough':Borough_u, 'Neighbourhood':Neighbourhood_u}\ndf_toronto = pd.DataFrame.from_dict(toronto_dict)\ndf_toronto.to_csv('toronto_part1.csv')\ndf_toronto.head(14)"
        }, 
        {
            "execution_count": 7, 
            "cell_type": "code", 
            "metadata": {}, 
            "outputs": [
                {
                    "execution_count": 7, 
                    "metadata": {}, 
                    "data": {
                        "text/plain": "(84, 3)"
                    }, 
                    "output_type": "execute_result"
                }
            ], 
            "source": "df_toronto.shape"
        }, 
        {
            "execution_count": null, 
            "cell_type": "code", 
            "metadata": {}, 
            "outputs": [], 
            "source": ""
        }
    ], 
    "metadata": {
        "kernelspec": {
            "display_name": "Python 3.5 with Spark", 
            "name": "python3", 
            "language": "python3"
        }, 
        "language_info": {
            "mimetype": "text/x-python", 
            "nbconvert_exporter": "python", 
            "version": "3.5.4", 
            "name": "python", 
            "file_extension": ".py", 
            "pygments_lexer": "ipython3", 
            "codemirror_mode": {
                "version": 3, 
                "name": "ipython"
            }
        }
    }, 
    "nbformat": 4
}