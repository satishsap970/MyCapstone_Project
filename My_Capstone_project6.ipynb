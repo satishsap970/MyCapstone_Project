{
    "nbformat_minor": 1, 
    "cells": [
        {
            "source": "### I would like to compare the Skydiving companies in California and Arizona", 
            "cell_type": "markdown", 
            "metadata": {
                "collapsed": true
            }
        }, 
        {
            "source": "#### Introduction to the Problem ", 
            "cell_type": "markdown", 
            "metadata": {}
        }, 
        {
            "source": "We know that there is always a huge demand and craze for Skydiving in different parts of the world\nwe also know that people always needs to travel to different places to do skydiving \n\nNow I would like to compare the list of companies who offer the skydiving services in both california and Arizona and would \nlike to give people with required information based on their current location to figure which skydiving company offers the best services \nand its benefits ", 
            "cell_type": "markdown", 
            "metadata": {}
        }, 
        {
            "execution_count": null, 
            "cell_type": "code", 
            "metadata": {}, 
            "outputs": [], 
            "source": ""
        }, 
        {
            "source": "#### Data Requirements", 
            "cell_type": "markdown", 
            "metadata": {}
        }, 
        {
            "source": "Step 1 - Get the Data from the Internet ", 
            "cell_type": "markdown", 
            "metadata": {}
        }, 
        {
            "source": "Califoria Communities \n\nhttp://www.geonames.org/postal-codes/US/CA/california.html ", 
            "cell_type": "markdown", 
            "metadata": {}
        }, 
        {
            "source": "Arizona Communities \n\nhttps://www.zipcodestogo.com/Arizona/ \n", 
            "cell_type": "markdown", 
            "metadata": {}
        }, 
        {
            "source": "Step 2 - identify the list of Skydiving Companies in these communities ", 
            "cell_type": "markdown", 
            "metadata": {}
        }, 
        {
            "source": "Step 3 - Use the Foresquare API to get the list of Skydiving Companies in each community ", 
            "cell_type": "markdown", 
            "metadata": {}
        }, 
        {
            "source": "Step 4 - Clean the data ", 
            "cell_type": "markdown", 
            "metadata": {}
        }, 
        {
            "source": "Step 5 - Load the data into Dataframe", 
            "cell_type": "markdown", 
            "metadata": {}
        }, 
        {
            "source": "Step 6 - Get the list of top sky diving companies in each city based on the number of reviews", 
            "cell_type": "markdown", 
            "metadata": {}
        }, 
        {
            "source": "Step 7 - Get the discount information and best safety guidance features from each company ", 
            "cell_type": "markdown", 
            "metadata": {}
        }, 
        {
            "source": "Step 8 - Recommend the people about the top sky diving companies in each city accordingly ", 
            "cell_type": "markdown", 
            "metadata": {}
        }
    ], 
    "metadata": {
        "kernelspec": {
            "display_name": "Python 3.5 with Spark", 
            "name": "python3", 
            "language": "python3"
        }, 
        "language_info": {
            "mimetype": "text/x-python", 
            "nbconvert_exporter": "python", 
            "version": "3.5.4", 
            "name": "python", 
            "file_extension": ".py", 
            "pygments_lexer": "ipython3", 
            "codemirror_mode": {
                "version": 3, 
                "name": "ipython"
            }
        }
    }, 
    "nbformat": 4
}